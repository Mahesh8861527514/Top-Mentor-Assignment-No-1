{
  "nbformat": 4,
  "nbformat_minor": 0,
  "metadata": {
    "colab": {
      "provenance": []
    },
    "kernelspec": {
      "name": "python3",
      "display_name": "Python 3"
    },
    "language_info": {
      "name": "python"
    }
  },
  "cells": [
    {
      "cell_type": "markdown",
      "source": [
        "Assignment No-1"
      ],
      "metadata": {
        "id": "v3BMse_eYtre"
      }
    },
    {
      "cell_type": "markdown",
      "source": [
        "Quetion No-1 : Take three numbers 'x', 'y' and 'z' as input from the user and check which number is greater"
      ],
      "metadata": {
        "id": "-K-aEJzQY84M"
      }
    },
    {
      "cell_type": "code",
      "execution_count": null,
      "metadata": {
        "colab": {
          "base_uri": "https://localhost:8080/"
        },
        "id": "Q5WUnDgiYrqG",
        "outputId": "493009b8-7b57-4ff7-f75d-b8bc881b74d0"
      },
      "outputs": [
        {
          "output_type": "stream",
          "name": "stdout",
          "text": [
            "enter a number:25\n",
            "enter a number:35\n",
            "enter a number:55\n",
            "num3 is greater\n"
          ]
        }
      ],
      "source": [
        "num1=int(input(\"enter a number:\"))\n",
        "num2=int(input(\"enter a number:\"))\n",
        "num3=int(input(\"enter a number:\"))\n",
        "if num1>num2 and num1>num3:\n",
        "  print(\"num1 is greater\")\n",
        "elif num2>num1 and num2>num3:\n",
        "  print(\"num2 is greater\")\n",
        "else:\n",
        "  print(\"num3 is greater\")"
      ]
    },
    {
      "cell_type": "markdown",
      "source": [
        " Quetion No-2 : Take an alphabet as input from the user and check if the alphabet is a vowel, consonant or an exception.\n"
      ],
      "metadata": {
        "id": "eh-nkdV0alRi"
      }
    },
    {
      "cell_type": "code",
      "source": [
        "alp=input(\"enter a alphabet:\")\n",
        "if alp in ('a','e','i','o','u'):\n",
        "  print(\"it is a vowel\")\n",
        "elif alp=='h' or alp=='y':\n",
        "  print(\"the alphabet is exception\")\n",
        "else:\n",
        "  print(\"it is a consonant\")"
      ],
      "metadata": {
        "colab": {
          "base_uri": "https://localhost:8080/"
        },
        "id": "uYUtVHlYZibB",
        "outputId": "d92b9a64-09ef-4858-fac6-1cb990ec6207"
      },
      "execution_count": null,
      "outputs": [
        {
          "output_type": "stream",
          "name": "stdout",
          "text": [
            "enter a alphabet:a\n",
            "it is a vowel\n"
          ]
        }
      ]
    },
    {
      "cell_type": "markdown",
      "source": [
        "Quetion No-3 Write a program to check whether a number given by a user is divisible by 2 and 3 both"
      ],
      "metadata": {
        "id": "7mfITLWXekol"
      }
    },
    {
      "cell_type": "code",
      "source": [
        "Num=float(input(\"enter a number:\"))\n",
        "if Num%2==0 and Num%3==0:\n",
        "  print(\"it is divisible by 2 and 3\")\n",
        "else:\n",
        "  print(\"it is not divisible by 2 and 3\")"
      ],
      "metadata": {
        "colab": {
          "base_uri": "https://localhost:8080/"
        },
        "id": "Yve8ZoiacWZO",
        "outputId": "9094c085-8e59-427e-a492-11a984137924"
      },
      "execution_count": null,
      "outputs": [
        {
          "output_type": "stream",
          "name": "stdout",
          "text": [
            "enter a number:10\n",
            "it is not divisible by 2 and 3\n"
          ]
        }
      ]
    },
    {
      "cell_type": "markdown",
      "source": [
        "Quetion No-4 :Write a program to accept the cost price  of a bike as input and display the road tax to be paid according to the following crieteria.\n",
        "\n",
        "Cost price - 100000 Tax - 15%\n",
        "Cost price - between 50000 to 100000 Tax - 10%\n",
        "Cost price - less than 50000 Tax - 5%"
      ],
      "metadata": {
        "id": "XuhI0OkVe90k"
      }
    },
    {
      "cell_type": "code",
      "source": [
        "price=int(input(\"enter the cost price:\"))\n",
        "if price>100000:\n",
        "  print(\"the road tax is 15%\")\n",
        "  tax=price*15/100\n",
        "  print(\"the tax is:\",tax)\n",
        "elif price>50000 and price<100000:\n",
        "  print(\"the road tax is 10%\")\n",
        "else:\n",
        "    print(\"the road tax is 5%\")"
      ],
      "metadata": {
        "colab": {
          "base_uri": "https://localhost:8080/"
        },
        "id": "SCAVm3oBg-GC",
        "outputId": "df961606-6310-456b-9fdd-c706024cfcca"
      },
      "execution_count": null,
      "outputs": [
        {
          "output_type": "stream",
          "name": "stdout",
          "text": [
            "enter the cost price:200000\n",
            "the road tax is 15%\n",
            "the tax is: 30000.0\n"
          ]
        }
      ]
    },
    {
      "cell_type": "markdown",
      "source": [
        "Quetion No-5, Write a program to calculate the electricity bill by accepting the number of units consumed by the user as input. Use the following price chart for reference.\n",
        "Price of first 100 units - no charge\n",
        "Price of next 100 units - Rs 5/- per unit\n",
        "After 200 units - Rs 10/- per unit"
      ],
      "metadata": {
        "id": "AktgEG-FmEkM"
      }
    },
    {
      "cell_type": "code",
      "source": [
        "units=int(input(\"enter the number of units:\"))\n",
        "if units<=100:\n",
        "  print(\"no charge\")\n",
        "elif units<=200:\n",
        "  print(\"the bill is:\",units*5)\n",
        "else :\n",
        "  print(\"the bill is:\",units*10)"
      ],
      "metadata": {
        "colab": {
          "base_uri": "https://localhost:8080/"
        },
        "id": "nyttdVbTlxT-",
        "outputId": "f443a321-449d-4c93-b755-a5ad71ef44c0"
      },
      "execution_count": null,
      "outputs": [
        {
          "output_type": "stream",
          "name": "stdout",
          "text": [
            "enter the number of units:300\n",
            "the bill is: 3000\n"
          ]
        }
      ]
    },
    {
      "cell_type": "code",
      "source": [],
      "metadata": {
        "id": "-1PjHbPTrI83"
      },
      "execution_count": null,
      "outputs": []
    }
  ]
}